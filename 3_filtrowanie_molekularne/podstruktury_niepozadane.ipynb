{
 "cells": [
  {
   "cell_type": "code",
   "execution_count": 1,
   "metadata": {},
   "outputs": [
    {
     "name": "stderr",
     "output_type": "stream",
     "text": [
      "<frozen importlib._bootstrap>:488: RuntimeWarning: to-Python converter for boost::shared_ptr<RDKit::FilterHierarchyMatcher> already registered; second conversion method ignored.\n",
      "<frozen importlib._bootstrap>:488: RuntimeWarning: to-Python converter for boost::shared_ptr<RDKit::FilterCatalogEntry> already registered; second conversion method ignored.\n"
     ]
    }
   ],
   "source": [
    "import pandas as pd\n",
    "from rdkit import Chem\n",
    "from rdkit.Chem import PandasTools\n",
    "from rdkit.Chem.FilterCatalog import FilterCatalog, FilterCatalogParams\n",
    "import os\n",
    "from tqdm import tqdm"
   ]
  },
  {
   "cell_type": "code",
   "execution_count": 2,
   "metadata": {},
   "outputs": [],
   "source": [
    "EGFR_df = pd.read_csv(os.path.join(\"..\", \"2_adme_lead-likeness\", \"EGFR_lipinski.csv\"))"
   ]
  },
  {
   "cell_type": "code",
   "execution_count": 3,
   "metadata": {},
   "outputs": [
    {
     "data": {
      "text/html": [
       "<div>\n",
       "<style scoped>\n",
       "    .dataframe tbody tr th:only-of-type {\n",
       "        vertical-align: middle;\n",
       "    }\n",
       "\n",
       "    .dataframe tbody tr th {\n",
       "        vertical-align: top;\n",
       "    }\n",
       "\n",
       "    .dataframe thead th {\n",
       "        text-align: right;\n",
       "    }\n",
       "</style>\n",
       "<table border=\"1\" class=\"dataframe\">\n",
       "  <thead>\n",
       "    <tr style=\"text-align: right;\">\n",
       "      <th></th>\n",
       "      <th>passed</th>\n",
       "      <th>Molecular mass</th>\n",
       "      <th>LogP</th>\n",
       "      <th>H-Donors</th>\n",
       "      <th>H-Acceptors</th>\n",
       "      <th>molecule_name</th>\n",
       "      <th>canonical_smiles</th>\n",
       "      <th>pIC50</th>\n",
       "    </tr>\n",
       "  </thead>\n",
       "  <tbody>\n",
       "    <tr>\n",
       "      <th>0</th>\n",
       "      <td>True</td>\n",
       "      <td>383.814</td>\n",
       "      <td>4.45034</td>\n",
       "      <td>3</td>\n",
       "      <td>4</td>\n",
       "      <td>CHEMBL68920</td>\n",
       "      <td>Cc1cc(C)c(/C=C2\\C(=O)Nc3ncnc(Nc4ccc(F)c(Cl)c4)...</td>\n",
       "      <td>7.387216</td>\n",
       "    </tr>\n",
       "    <tr>\n",
       "      <th>1</th>\n",
       "      <td>True</td>\n",
       "      <td>369.432</td>\n",
       "      <td>4.77200</td>\n",
       "      <td>1</td>\n",
       "      <td>6</td>\n",
       "      <td>CHEMBL137635</td>\n",
       "      <td>CN(c1ccccc1)c1ncnc2ccc(N/N=N/Cc3ccccn3)cc12</td>\n",
       "      <td>5.031517</td>\n",
       "    </tr>\n",
       "    <tr>\n",
       "      <th>2</th>\n",
       "      <td>True</td>\n",
       "      <td>283.287</td>\n",
       "      <td>2.31056</td>\n",
       "      <td>2</td>\n",
       "      <td>4</td>\n",
       "      <td>CHEMBL306988</td>\n",
       "      <td>CC(=C(C#N)C#N)c1ccc(NC(=O)CCC(=O)O)cc1</td>\n",
       "      <td>3.301030</td>\n",
       "    </tr>\n",
       "    <tr>\n",
       "      <th>3</th>\n",
       "      <td>True</td>\n",
       "      <td>370.456</td>\n",
       "      <td>5.58790</td>\n",
       "      <td>1</td>\n",
       "      <td>5</td>\n",
       "      <td>CHEMBL47940</td>\n",
       "      <td>Nc1ncnc2c1c(-c1ccc(Oc3ccccc3)cc1)cn2C1CCCC1</td>\n",
       "      <td>5.494850</td>\n",
       "    </tr>\n",
       "    <tr>\n",
       "      <th>4</th>\n",
       "      <td>True</td>\n",
       "      <td>442.515</td>\n",
       "      <td>5.07900</td>\n",
       "      <td>3</td>\n",
       "      <td>3</td>\n",
       "      <td>CHEMBL432941</td>\n",
       "      <td>COc1cccc(-c2ccc3c(c2)NC(=O)/C3=C\\c2[nH]c3c(c2C...</td>\n",
       "      <td>5.051587</td>\n",
       "    </tr>\n",
       "  </tbody>\n",
       "</table>\n",
       "</div>"
      ],
      "text/plain": [
       "   passed  Molecular mass     LogP  H-Donors  H-Acceptors molecule_name  \\\n",
       "0    True         383.814  4.45034         3            4   CHEMBL68920   \n",
       "1    True         369.432  4.77200         1            6  CHEMBL137635   \n",
       "2    True         283.287  2.31056         2            4  CHEMBL306988   \n",
       "3    True         370.456  5.58790         1            5   CHEMBL47940   \n",
       "4    True         442.515  5.07900         3            3  CHEMBL432941   \n",
       "\n",
       "                                    canonical_smiles     pIC50  \n",
       "0  Cc1cc(C)c(/C=C2\\C(=O)Nc3ncnc(Nc4ccc(F)c(Cl)c4)...  7.387216  \n",
       "1        CN(c1ccccc1)c1ncnc2ccc(N/N=N/Cc3ccccn3)cc12  5.031517  \n",
       "2             CC(=C(C#N)C#N)c1ccc(NC(=O)CCC(=O)O)cc1  3.301030  \n",
       "3        Nc1ncnc2c1c(-c1ccc(Oc3ccccc3)cc1)cn2C1CCCC1  5.494850  \n",
       "4  COc1cccc(-c2ccc3c(c2)NC(=O)/C3=C\\c2[nH]c3c(c2C...  5.051587  "
      ]
     },
     "execution_count": 3,
     "metadata": {},
     "output_type": "execute_result"
    }
   ],
   "source": [
    "EGFR_df.head()"
   ]
  },
  {
   "cell_type": "markdown",
   "metadata": {},
   "source": [
    "<h3>Zdefiniowanie parametrów i katalogu ze związkami PAINS</h3>"
   ]
  },
  {
   "cell_type": "code",
   "execution_count": 4,
   "metadata": {},
   "outputs": [],
   "source": [
    "params = FilterCatalogParams()\n",
    "params.AddCatalog(FilterCatalogParams.FilterCatalogs.PAINS)\n",
    "catalog = FilterCatalog(params)"
   ]
  },
  {
   "cell_type": "markdown",
   "metadata": {},
   "source": [
    "<h3>Szukanie związków PAINS w zbiorze danych i usunięcie ich ze zbioru danych</h3>"
   ]
  },
  {
   "cell_type": "code",
   "execution_count": 5,
   "metadata": {},
   "outputs": [
    {
     "name": "stderr",
     "output_type": "stream",
     "text": [
      "100%|██████████| 667/667 [00:02<00:00, 264.40it/s]\n"
     ]
    }
   ],
   "source": [
    "# search for PAINS\n",
    "matches = []\n",
    "clean = []\n",
    "for index, row in tqdm(EGFR_df.iterrows(), total=EGFR_df.shape[0]):\n",
    "    molecule = Chem.MolFromSmiles(row['canonical_smiles'])\n",
    "    entry = catalog.GetFirstMatch(molecule)  # Get the first matching PAINS\n",
    "    if entry is not None:\n",
    "        # store PAINS information\n",
    "        matches.append(\n",
    "            {\n",
    "                \"chembl_id\": row.molecule_name,\n",
    "                \"rdkit_molecule\": molecule,\n",
    "                \"pains\": entry.GetDescription().capitalize(),\n",
    "            }\n",
    "        )\n",
    "    else:\n",
    "        # collect indices of molecules without PAINS\n",
    "        clean.append(index)\n",
    "\n",
    "matches = pd.DataFrame(matches)\n",
    "EGFR_df_wo_pains = EGFR_df.loc[clean]  # keep molecules without PAINS"
   ]
  },
  {
   "cell_type": "code",
   "execution_count": 6,
   "metadata": {},
   "outputs": [
    {
     "name": "stdout",
     "output_type": "stream",
     "text": [
      "Number of compounds with PAINS: 71\n",
      "Number of compounds without PAINS: 596\n"
     ]
    }
   ],
   "source": [
    "# NBVAL_CHECK_OUTPUT\n",
    "print(f\"Number of compounds with PAINS: {len(matches)}\")\n",
    "print(f\"Number of compounds without PAINS: {len(EGFR_df_wo_pains)}\")"
   ]
  },
  {
   "cell_type": "markdown",
   "metadata": {},
   "source": [
    "<h3>Wyświetlenie związków zaklasyfikowanych jako związki PAINS</h3>"
   ]
  },
  {
   "cell_type": "code",
   "execution_count": 7,
   "metadata": {},
   "outputs": [
    {
     "data": {
      "image/png": "[encoded data removed]",
      "text/plain": [
       "<IPython.core.display.Image object>"
      ]
     },
     "execution_count": 7,
     "metadata": {},
     "output_type": "execute_result"
    }
   ],
   "source": [
    "Chem.Draw.MolsToGridImage(\n",
    "    list(matches.head(2).rdkit_molecule),\n",
    "    legends=list(matches.head(2)[\"pains\"]),\n",
    ")"
   ]
  },
  {
   "cell_type": "markdown",
   "metadata": {},
   "source": [
    "<h3>Wczytanie niechcianych związków z publikacji <i>Brenka et al.(Chem. Med. Chem. 2008, 3, 435-44)</i></h3>"
   ]
  },
  {
   "cell_type": "code",
   "execution_count": 8,
   "metadata": {},
   "outputs": [
    {
     "name": "stdout",
     "output_type": "stream",
     "text": [
      "Number of unwanted substructures in collection: 104\n"
     ]
    }
   ],
   "source": [
    "substructures = pd.read_csv(\"unwanted_substructures.csv\", sep=\" \")\n",
    "substructures[\"rdkit_molecule\"] = substructures.smarts.apply(Chem.MolFromSmarts)\n",
    "print(\"Number of unwanted substructures in collection:\", len(substructures))\n",
    "# NBVAL_CHECK_OUTPUT"
   ]
  },
  {
   "cell_type": "markdown",
   "metadata": {},
   "source": [
    "<h3>Wyświetlenie przykładowych związków niepożądanych z powyższej publikacji</h3>"
   ]
  },
  {
   "cell_type": "code",
   "execution_count": 9,
   "metadata": {},
   "outputs": [
    {
     "data": {
      "image/png": "[encoded data removed]",
      "text/plain": [
       "<IPython.core.display.Image object>"
      ]
     },
     "execution_count": 9,
     "metadata": {},
     "output_type": "execute_result"
    }
   ],
   "source": [
    "Chem.Draw.MolsToGridImage(\n",
    "    mols=substructures.rdkit_molecule.tolist()[2:5],\n",
    "    legends=substructures.name.tolist()[2:5],\n",
    ")"
   ]
  },
  {
   "cell_type": "markdown",
   "metadata": {},
   "source": [
    "<h3>Znalezienie i usunięcie niechcianych struktur</h3>"
   ]
  },
  {
   "cell_type": "code",
   "execution_count": 10,
   "metadata": {},
   "outputs": [
    {
     "name": "stderr",
     "output_type": "stream",
     "text": [
      "100%|██████████| 596/596 [00:03<00:00, 171.22it/s]\n"
     ]
    }
   ],
   "source": [
    "# search for unwanted substructure\n",
    "matches = []\n",
    "clean = []\n",
    "for index, row in tqdm(EGFR_df_wo_pains.iterrows(), total=EGFR_df_wo_pains.shape[0]):\n",
    "    molecule = Chem.MolFromSmiles(row[\"canonical_smiles\"])\n",
    "    match = False\n",
    "    for _, substructure in substructures.iterrows():\n",
    "        if molecule.HasSubstructMatch(substructure.rdkit_molecule):\n",
    "            matches.append(\n",
    "                {\n",
    "                    \"chembl_id\": row.molecule_name,\n",
    "                    \"rdkit_molecule\": molecule,\n",
    "                    \"substructure\": substructure.rdkit_molecule,\n",
    "                    \"substructure_name\": substructure[\"name\"],\n",
    "                }\n",
    "            )\n",
    "            match = True\n",
    "    if not match:\n",
    "        clean.append(index)\n",
    "\n",
    "matches = pd.DataFrame(matches)\n",
    "EGFR_clean = EGFR_df_wo_pains.loc[clean]"
   ]
  },
  {
   "cell_type": "markdown",
   "metadata": {},
   "source": [
    "<h3>Zapisanie oczyszczonej matrycy do kolejnych zadań</h3>"
   ]
  },
  {
   "cell_type": "code",
   "execution_count": null,
   "metadata": {},
   "outputs": [],
   "source": [
    "# EGFR_clean.to_csv(\"EGFR_clean.csv\", index=False)"
   ]
  },
  {
   "cell_type": "code",
   "execution_count": 12,
   "metadata": {},
   "outputs": [
    {
     "name": "stdout",
     "output_type": "stream",
     "text": [
      "Number of found unwanted substructure: 420\n",
      "Number of compounds without unwanted substructure: 307\n"
     ]
    }
   ],
   "source": [
    "# NBVAL_CHECK_OUTPUT\n",
    "print(f\"Number of found unwanted substructure: {len(matches)}\")\n",
    "print(f\"Number of compounds without unwanted substructure: {len(EGFR_clean)}\")"
   ]
  },
  {
   "cell_type": "markdown",
   "metadata": {},
   "source": [
    "<h3>Wyświetlenie przykładowych niechcianych struktur z powyższej publikacji</h3>"
   ]
  },
  {
   "cell_type": "code",
   "execution_count": 13,
   "metadata": {},
   "outputs": [
    {
     "data": {
      "image/png": "[encoded data removed]",
      "text/plain": [
       "<IPython.core.display.Image object>"
      ]
     },
     "execution_count": 13,
     "metadata": {},
     "output_type": "execute_result"
    }
   ],
   "source": [
    "to_highlight = [\n",
    "    row.rdkit_molecule.GetSubstructMatch(row.substructure) for _, row in matches.head(3).iterrows()\n",
    "]\n",
    "Chem.Draw.MolsToGridImage(\n",
    "    list(matches.head(3).rdkit_molecule),\n",
    "    highlightAtomLists=to_highlight,\n",
    "    legends=list(matches.head(3).substructure_name),\n",
    ")"
   ]
  },
  {
   "cell_type": "markdown",
   "metadata": {},
   "source": [
    "<h3>Wypisanie częstości występowania podstruktur</h3>"
   ]
  },
  {
   "cell_type": "code",
   "execution_count": 14,
   "metadata": {},
   "outputs": [
    {
     "data": {
      "text/plain": [
       "substructure_name\n",
       "Michael-acceptor               153\n",
       "Oxygen-nitrogen-single-bond     53\n",
       "Aliphatic-long-chain            51\n",
       "imine                           24\n",
       "triple-bond                     24\n",
       "nitro-group                     18\n",
       "halogenated-ring                10\n",
       "hydroxamic-acid                 10\n",
       "Thiocarbonyl-group              10\n",
       "alkyl-halide                     8\n",
       "dtype: int64"
      ]
     },
     "execution_count": 14,
     "metadata": {},
     "output_type": "execute_result"
    }
   ],
   "source": [
    "# NBVAL_CHECK_OUTPUT\n",
    "groups = matches.groupby(\"substructure_name\")\n",
    "group_frequencies = groups.size()\n",
    "group_frequencies.sort_values(ascending=False, inplace=True)\n",
    "group_frequencies.head(10)"
   ]
  }
 ],
 "metadata": {
  "kernelspec": {
   "display_name": ".venv",
   "language": "python",
   "name": "python3"
  },
  "language_info": {
   "codemirror_mode": {
    "name": "ipython",
    "version": 3
   },
   "file_extension": ".py",
   "mimetype": "text/x-python",
   "name": "python",
   "nbconvert_exporter": "python",
   "pygments_lexer": "ipython3",
   "version": "3.12.8"
  }
 },
 "nbformat": 4,
 "nbformat_minor": 2
}
